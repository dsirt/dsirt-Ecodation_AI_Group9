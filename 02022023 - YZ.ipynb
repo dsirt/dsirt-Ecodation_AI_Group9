{
 "cells": [
  {
   "cell_type": "code",
   "execution_count": 1,
   "id": "1d311a4e",
   "metadata": {},
   "outputs": [
    {
     "name": "stdout",
     "output_type": "stream",
     "text": [
      "Barcelona\n",
      "Real Madrid\n"
     ]
    }
   ],
   "source": [
    "#Function definition\n",
    "def myprint(s1):\n",
    "    print(s1)\n",
    "    \n",
    "#Function call\n",
    "myprint(\"Barcelona\")\n",
    "myprint(\"Real Madrid\")"
   ]
  },
  {
   "cell_type": "code",
   "execution_count": 2,
   "id": "44d6f7de",
   "metadata": {},
   "outputs": [
    {
     "name": "stdout",
     "output_type": "stream",
     "text": [
      "15\n"
     ]
    }
   ],
   "source": [
    "def Fun(x, y):\n",
    "    result = x + y\n",
    "    return result\n",
    "\n",
    "print(Fun(8, 7))"
   ]
  },
  {
   "cell_type": "code",
   "execution_count": 3,
   "id": "58fa18da",
   "metadata": {},
   "outputs": [
    {
     "name": "stdout",
     "output_type": "stream",
     "text": [
      "Name:  Duffy Duck\n",
      "Age:  36\n",
      "Name:  Casper\n",
      "Age:  23\n"
     ]
    }
   ],
   "source": [
    "#default parameter\n",
    "def printinfo(name, age = 23):\n",
    "    print(\"Name: \", name)\n",
    "    print(\"Age: \", age)\n",
    "    \n",
    "printinfo(age = 36, name = \"Duffy Duck\")\n",
    "printinfo(name = \"Casper\")"
   ]
  },
  {
   "cell_type": "code",
   "execution_count": 4,
   "id": "4d027f96",
   "metadata": {},
   "outputs": [
    {
     "name": "stdout",
     "output_type": "stream",
     "text": [
      "424\n",
      "220\n"
     ]
    }
   ],
   "source": [
    "from random import randint\n",
    "print(randint(50, 500))\n",
    "\n",
    "import random\n",
    "print(random.randint(100, 1000))"
   ]
  },
  {
   "cell_type": "code",
   "execution_count": 5,
   "id": "beaef839",
   "metadata": {},
   "outputs": [
    {
     "name": "stdout",
     "output_type": "stream",
     "text": [
      "randrange(100, 1000, 2) :  290\n",
      "randrange(100, 1000, 3) :  982\n"
     ]
    }
   ],
   "source": [
    "import random\n",
    "print(\"randrange(100, 1000, 2) : \", random.randrange(100, 1000, 2))\n",
    "print(\"randrange(100, 1000, 3) : \", random.randrange(100, 1000, 3))"
   ]
  },
  {
   "cell_type": "code",
   "execution_count": 6,
   "id": "18c2d389",
   "metadata": {},
   "outputs": [
    {
     "name": "stdout",
     "output_type": "stream",
     "text": [
      "67.16707906446055\n",
      "26.736530046952353\n"
     ]
    }
   ],
   "source": [
    "print(random.uniform(18, 81))\n",
    "print(random.uniform(19, 38))"
   ]
  },
  {
   "cell_type": "code",
   "execution_count": 7,
   "id": "0c822d01",
   "metadata": {},
   "outputs": [
    {
     "name": "stdout",
     "output_type": "stream",
     "text": [
      "3.141592653589793\n"
     ]
    }
   ],
   "source": [
    "from math import pi\n",
    "print(pi)"
   ]
  },
  {
   "cell_type": "code",
   "execution_count": 9,
   "id": "6248daa8",
   "metadata": {},
   "outputs": [
    {
     "name": "stdout",
     "output_type": "stream",
     "text": [
      "78.53981633974483\n"
     ]
    }
   ],
   "source": [
    "import math\n",
    "def area_of_circle(r):\n",
    "    a = r**2 * math.pi\n",
    "    return a\n",
    "\n",
    "print(area_of_circle(5))"
   ]
  },
  {
   "cell_type": "code",
   "execution_count": 13,
   "id": "fc2af23a",
   "metadata": {},
   "outputs": [
    {
     "name": "stdout",
     "output_type": "stream",
     "text": [
      "Yarıçapı Gir :6\n",
      "113.09733552923255\n"
     ]
    }
   ],
   "source": [
    "import math\n",
    "def daireAlan(yaricap):\n",
    "    alan = (yaricap ** 2)* math.pi\n",
    "    return alan\n",
    "\n",
    "yaricap = int(input(\"Yarıçapı Gir :\"))\n",
    "\n",
    "print(daireAlan(yaricap))"
   ]
  },
  {
   "cell_type": "code",
   "execution_count": 14,
   "id": "dcb7d1d2",
   "metadata": {},
   "outputs": [],
   "source": [
    "#lambda, filter, map, reduce -> Anonim Fonksiyonlar"
   ]
  },
  {
   "cell_type": "code",
   "execution_count": 15,
   "id": "a67caa06",
   "metadata": {},
   "outputs": [],
   "source": [
    "#lambda num1, num2 : num1 + num2"
   ]
  },
  {
   "cell_type": "code",
   "execution_count": 16,
   "id": "842c6dec",
   "metadata": {},
   "outputs": [
    {
     "name": "stdout",
     "output_type": "stream",
     "text": [
      "18\n"
     ]
    }
   ],
   "source": [
    "addition = lambda a : a + 10\n",
    "print(addition(8))"
   ]
  },
  {
   "cell_type": "code",
   "execution_count": 17,
   "id": "7bcb5366",
   "metadata": {},
   "outputs": [
    {
     "name": "stdout",
     "output_type": "stream",
     "text": [
      "180\n"
     ]
    }
   ],
   "source": [
    "product = lambda a, b : a * b \n",
    "print(product(12, 15))"
   ]
  },
  {
   "cell_type": "code",
   "execution_count": 18,
   "id": "6320aca9",
   "metadata": {},
   "outputs": [
    {
     "name": "stdout",
     "output_type": "stream",
     "text": [
      "75\n"
     ]
    }
   ],
   "source": [
    "addition = lambda a,b,c : a+b+c\n",
    "print(addition(15, 25, 35))"
   ]
  },
  {
   "cell_type": "code",
   "execution_count": 19,
   "id": "5b302ed2",
   "metadata": {},
   "outputs": [
    {
     "data": {
      "text/plain": [
       "(30, 100, 280)"
      ]
     },
     "execution_count": 19,
     "metadata": {},
     "output_type": "execute_result"
    }
   ],
   "source": [
    "res = (lambda *args : sum(args))\n",
    "res(10, 20), res(10,20,30,40), res(10,20,30,40,50,60,70)"
   ]
  },
  {
   "cell_type": "code",
   "execution_count": 20,
   "id": "d09f416a",
   "metadata": {},
   "outputs": [
    {
     "data": {
      "text/plain": [
       "(60, 150)"
      ]
     },
     "execution_count": 20,
     "metadata": {},
     "output_type": "execute_result"
    }
   ],
   "source": [
    "res1 = (lambda **kwargs : sum(kwargs.values()))\n",
    "res1(a = 10, b = 20, c = 30), res1(a = 10, b = 20, c = 30, d = 40, e = 50)"
   ]
  },
  {
   "cell_type": "code",
   "execution_count": 21,
   "id": "c257b5f6",
   "metadata": {},
   "outputs": [
    {
     "data": {
      "text/plain": [
       "[1, 3, 5, 7, 9]"
      ]
     },
     "execution_count": 21,
     "metadata": {},
     "output_type": "execute_result"
    }
   ],
   "source": [
    "#filter(function, iterable)\n",
    "list1 = [1,2,3,4,5,6,7,8,9]\n",
    "\n",
    "def odd(n):\n",
    "    if n%2 == 1:\n",
    "        return True\n",
    "    else:\n",
    "        return False\n",
    "    \n",
    "odd_num = list(filter(odd, list1))\n",
    "odd_num"
   ]
  },
  {
   "cell_type": "code",
   "execution_count": 22,
   "id": "ff41c7cb",
   "metadata": {},
   "outputs": [
    {
     "data": {
      "text/plain": [
       "[1, 3, 5, 7, 9]"
      ]
     },
     "execution_count": 22,
     "metadata": {},
     "output_type": "execute_result"
    }
   ],
   "source": [
    "list1 = [1,2,3,4,5,6,7,8,9]\n",
    "\n",
    "odd_num = list(filter(lambda n : n%2 == 1, list1))\n",
    "odd_num"
   ]
  },
  {
   "cell_type": "code",
   "execution_count": 23,
   "id": "37a93f61",
   "metadata": {},
   "outputs": [],
   "source": [
    "#map(function, iterable)"
   ]
  },
  {
   "cell_type": "code",
   "execution_count": 24,
   "id": "81f9b525",
   "metadata": {},
   "outputs": [
    {
     "data": {
      "text/plain": [
       "[2, 6, 10, 14, 18]"
      ]
     },
     "execution_count": 24,
     "metadata": {},
     "output_type": "execute_result"
    }
   ],
   "source": [
    "def twice(n):\n",
    "    return n*2\n",
    "\n",
    "doubles = list(map(twice, odd_num))\n",
    "doubles"
   ]
  },
  {
   "cell_type": "code",
   "execution_count": 25,
   "id": "5e8b304f",
   "metadata": {},
   "outputs": [
    {
     "data": {
      "text/plain": [
       "[2, 6, 10, 14, 18]"
      ]
     },
     "execution_count": 25,
     "metadata": {},
     "output_type": "execute_result"
    }
   ],
   "source": [
    "doubles = list(map(lambda n : n*2, odd_num))\n",
    "doubles"
   ]
  },
  {
   "cell_type": "code",
   "execution_count": 26,
   "id": "8bb34dc0",
   "metadata": {},
   "outputs": [],
   "source": [
    "#reduce(function, iterable)\n",
    "from functools import reduce"
   ]
  },
  {
   "cell_type": "code",
   "execution_count": 27,
   "id": "5c02d666",
   "metadata": {},
   "outputs": [
    {
     "data": {
      "text/plain": [
       "50"
      ]
     },
     "execution_count": 27,
     "metadata": {},
     "output_type": "execute_result"
    }
   ],
   "source": [
    "def add(a, b):\n",
    "    return a + b\n",
    "\n",
    "sum_all = reduce(add, doubles)\n",
    "sum_all"
   ]
  },
  {
   "cell_type": "code",
   "execution_count": 28,
   "id": "cccd9845",
   "metadata": {},
   "outputs": [
    {
     "data": {
      "text/plain": [
       "50"
      ]
     },
     "execution_count": 28,
     "metadata": {},
     "output_type": "execute_result"
    }
   ],
   "source": [
    "sum_all = reduce(lambda a, b : a + b, doubles)\n",
    "sum_all"
   ]
  },
  {
   "cell_type": "code",
   "execution_count": 30,
   "id": "6f15a993",
   "metadata": {},
   "outputs": [
    {
     "data": {
      "text/plain": [
       "50"
      ]
     },
     "execution_count": 30,
     "metadata": {},
     "output_type": "execute_result"
    }
   ],
   "source": [
    "sum_all = reduce(lambda a, b : a + b, list(map(lambda n : n*2, list(filter(lambda n : n % 2 == 1, list1)))))\n",
    "sum_all"
   ]
  },
  {
   "cell_type": "code",
   "execution_count": 31,
   "id": "a15f73ca",
   "metadata": {},
   "outputs": [],
   "source": [
    "#Dosyalar ve İstisnalar"
   ]
  },
  {
   "cell_type": "code",
   "execution_count": 32,
   "id": "4c85b3ed",
   "metadata": {},
   "outputs": [
    {
     "name": "stdout",
     "output_type": "stream",
     "text": [
      "<_io.TextIOWrapper name='myfile0202.txt' mode='w' encoding='cp1254'>\n"
     ]
    }
   ],
   "source": [
    "f = open(\"myfile0202.txt\", \"w\")\n",
    "print(f)"
   ]
  },
  {
   "cell_type": "code",
   "execution_count": 33,
   "id": "81790b2c",
   "metadata": {},
   "outputs": [],
   "source": [
    "f.write(\"Now is the time\")\n",
    "f.write(\"to close the file\")\n",
    "f.close()"
   ]
  },
  {
   "cell_type": "code",
   "execution_count": 34,
   "id": "5a794ec2",
   "metadata": {},
   "outputs": [
    {
     "name": "stdout",
     "output_type": "stream",
     "text": [
      "Now is the timeto close the file\n"
     ]
    }
   ],
   "source": [
    "f = open(\"myfile0202.txt\", \"r\")\n",
    "text = f.read()\n",
    "print(text)"
   ]
  },
  {
   "cell_type": "code",
   "execution_count": 35,
   "id": "cacd6059",
   "metadata": {},
   "outputs": [
    {
     "name": "stdout",
     "output_type": "stream",
     "text": [
      "Now i\n"
     ]
    }
   ],
   "source": [
    "f = open(\"myfile0202.txt\", \"r\")\n",
    "print(f.read(5))"
   ]
  },
  {
   "cell_type": "code",
   "execution_count": 36,
   "id": "9dc1f57b",
   "metadata": {},
   "outputs": [
    {
     "name": "stdout",
     "output_type": "stream",
     "text": [
      "s the timeto close the file\n"
     ]
    }
   ],
   "source": [
    "print(f.read(1000006))"
   ]
  },
  {
   "cell_type": "code",
   "execution_count": 37,
   "id": "6f350035",
   "metadata": {},
   "outputs": [],
   "source": [
    "fo = open(\"foo0202.txt\", \"w\")\n",
    "fo.write(\"Python is a great language.\\nYeah its great!!\\n\")\n",
    "fo.close()"
   ]
  },
  {
   "cell_type": "code",
   "execution_count": 38,
   "id": "03e0f895",
   "metadata": {},
   "outputs": [
    {
     "name": "stdout",
     "output_type": "stream",
     "text": [
      "Our string is : Python is a great\n"
     ]
    }
   ],
   "source": [
    "fo = open(\"foo0202.txt\", \"r\")\n",
    "mystr1 = fo.read(17)\n",
    "print(\"Our string is :\", mystr1)"
   ]
  },
  {
   "cell_type": "code",
   "execution_count": 39,
   "id": "09df0362",
   "metadata": {},
   "outputs": [
    {
     "name": "stdout",
     "output_type": "stream",
     "text": [
      "Current file position : 17\n"
     ]
    }
   ],
   "source": [
    "position = fo.tell()\n",
    "print(\"Current file position :\", position)"
   ]
  },
  {
   "cell_type": "code",
   "execution_count": 40,
   "id": "c5cafcc8",
   "metadata": {},
   "outputs": [
    {
     "name": "stdout",
     "output_type": "stream",
     "text": [
      "Again our string is :  Python is a great languag\n"
     ]
    }
   ],
   "source": [
    "position = fo.seek(0, 0)\n",
    "mystr2 = fo.read(25)\n",
    "print(\"Again our string is : \", mystr2)\n",
    "fo.close()"
   ]
  },
  {
   "cell_type": "code",
   "execution_count": 41,
   "id": "49bdc728",
   "metadata": {},
   "outputs": [],
   "source": [
    "#try, except, else, finally"
   ]
  },
  {
   "cell_type": "code",
   "execution_count": 42,
   "id": "cf78e288",
   "metadata": {},
   "outputs": [
    {
     "name": "stdout",
     "output_type": "stream",
     "text": [
      "Error : cannot find file or read data\n"
     ]
    }
   ],
   "source": [
    "try:\n",
    "    fh = open(\"mynewfile0202\", \"r\")\n",
    "    fh.write(\"This is a test file for exceptions\")\n",
    "\n",
    "except IOError:\n",
    "    print(\"Error : cannot find file or read data\")\n",
    "    \n",
    "else:\n",
    "    print(\"Content is written to the file succesfully\")"
   ]
  },
  {
   "cell_type": "code",
   "execution_count": 43,
   "id": "dfaa85eb",
   "metadata": {},
   "outputs": [
    {
     "name": "stdout",
     "output_type": "stream",
     "text": [
      "Content is written to the file succesfully\n"
     ]
    }
   ],
   "source": [
    "try:\n",
    "    fh = open(\"mynewfile0202\", \"w\")\n",
    "    fh.write(\"This is a test file for exceptions\")\n",
    "    fh.close()\n",
    "    \n",
    "finally:\n",
    "    print(\"Content is written to the file succesfully\")"
   ]
  },
  {
   "cell_type": "code",
   "execution_count": 44,
   "id": "7b3c0603",
   "metadata": {},
   "outputs": [],
   "source": [
    "#Listeler"
   ]
  },
  {
   "cell_type": "code",
   "execution_count": 45,
   "id": "a4b04e3b",
   "metadata": {},
   "outputs": [
    {
     "name": "stdout",
     "output_type": "stream",
     "text": [
      "['python', 'java', 2017, 2023]\n",
      "After deleting :  ['python', 2017, 2023]\n"
     ]
    }
   ],
   "source": [
    "#silme\n",
    "mylist = ['python', 'java', 2017, 2023]\n",
    "print(mylist)\n",
    "del mylist[1]\n",
    "print(\"After deleting : \", mylist)"
   ]
  },
  {
   "cell_type": "code",
   "execution_count": 46,
   "id": "f184fff4",
   "metadata": {},
   "outputs": [
    {
     "name": "stdout",
     "output_type": "stream",
     "text": [
      "2023\n",
      "New value at index 3 : 5000\n"
     ]
    }
   ],
   "source": [
    "#güncelleme\n",
    "lst2 = ['python', 'geometry', 2017, 2023]\n",
    "print(lst2[3])\n",
    "lst2[3] = 5000\n",
    "print(\"New value at index 3 :\", lst2[3])"
   ]
  },
  {
   "cell_type": "code",
   "execution_count": 47,
   "id": "62ce557a",
   "metadata": {},
   "outputs": [
    {
     "name": "stdout",
     "output_type": "stream",
     "text": [
      "['but', 'soft', 'what', 'light', 'in', 'window', 'shop']\n"
     ]
    }
   ],
   "source": [
    "#bölme(split)\n",
    "txt = 'but soft what light in window shop'\n",
    "words = txt.split()\n",
    "print(words)"
   ]
  },
  {
   "cell_type": "code",
   "execution_count": 48,
   "id": "5b4e75f5",
   "metadata": {},
   "outputs": [
    {
     "name": "stdout",
     "output_type": "stream",
     "text": [
      "[64, 128, 256, 512]\n"
     ]
    }
   ],
   "source": [
    "#List Comprehension\n",
    "pow2 = [2 ** x for x in range(10) if x > 5]\n",
    "print(pow2)"
   ]
  },
  {
   "cell_type": "code",
   "execution_count": 49,
   "id": "bee7cf7c",
   "metadata": {},
   "outputs": [
    {
     "name": "stdout",
     "output_type": "stream",
     "text": [
      "1\n",
      "2\n",
      "4\n",
      "8\n",
      "16\n",
      "32\n",
      "64\n",
      "128\n",
      "256\n",
      "512\n"
     ]
    }
   ],
   "source": [
    "pow2 = []\n",
    "for x in range(10):\n",
    "    pow2.append(print(2**x))"
   ]
  },
  {
   "cell_type": "code",
   "execution_count": 50,
   "id": "2b12a7d1",
   "metadata": {},
   "outputs": [
    {
     "name": "stdout",
     "output_type": "stream",
     "text": [
      "['Python', 'Java']\n"
     ]
    }
   ],
   "source": [
    "langs = []\n",
    "langs.append(\"Python\")\n",
    "langs.append(\"Java\")\n",
    "print(langs)"
   ]
  },
  {
   "cell_type": "code",
   "execution_count": 51,
   "id": "fc20422e",
   "metadata": {},
   "outputs": [
    {
     "name": "stdout",
     "output_type": "stream",
     "text": [
      "['PHP', 'Python', 'C', 'Java', 'Swift']\n"
     ]
    }
   ],
   "source": [
    "langs.insert(0, \"PHP\")\n",
    "langs.insert(2, \"C\")\n",
    "langs.insert(4, \"Swift\")\n",
    "langs.insert(1, \"Kivy\")\n",
    "print(langs)"
   ]
  },
  {
   "cell_type": "code",
   "execution_count": 52,
   "id": "f1555ed4",
   "metadata": {},
   "outputs": [],
   "source": [
    "langs.extend((\"Javascript\", \"Django\", \"Flask\", \"PyGame\", \"Kivy\"))"
   ]
  },
  {
   "cell_type": "code",
   "execution_count": 53,
   "id": "d9d49e31",
   "metadata": {},
   "outputs": [
    {
     "name": "stdout",
     "output_type": "stream",
     "text": [
      "['PHP', 'Python', 'C', 'Java', 'Swift', 'Javascript', 'Django', 'Flask', 'PyGame', 'Kivy']\n"
     ]
    }
   ],
   "source": [
    "print(langs)"
   ]
  },
  {
   "cell_type": "code",
   "execution_count": 54,
   "id": "05341277",
   "metadata": {},
   "outputs": [],
   "source": [
    "del langs[5]"
   ]
  },
  {
   "cell_type": "code",
   "execution_count": 55,
   "id": "da89caa3",
   "metadata": {},
   "outputs": [
    {
     "name": "stdout",
     "output_type": "stream",
     "text": [
      "['PHP', 'Python', 'C', 'Java', 'Swift', 'Django', 'Flask', 'PyGame', 'Kivy']\n"
     ]
    }
   ],
   "source": [
    "print(langs)"
   ]
  },
  {
   "cell_type": "code",
   "execution_count": 56,
   "id": "92cc0253",
   "metadata": {},
   "outputs": [],
   "source": [
    "del langs[:]"
   ]
  },
  {
   "cell_type": "code",
   "execution_count": 57,
   "id": "7948488b",
   "metadata": {},
   "outputs": [
    {
     "name": "stdout",
     "output_type": "stream",
     "text": [
      "[]\n"
     ]
    }
   ],
   "source": [
    "print(langs)"
   ]
  },
  {
   "cell_type": "code",
   "execution_count": null,
   "id": "5bead1be",
   "metadata": {},
   "outputs": [],
   "source": []
  }
 ],
 "metadata": {
  "kernelspec": {
   "display_name": "Python 3",
   "language": "python",
   "name": "python3"
  },
  "language_info": {
   "codemirror_mode": {
    "name": "ipython",
    "version": 3
   },
   "file_extension": ".py",
   "mimetype": "text/x-python",
   "name": "python",
   "nbconvert_exporter": "python",
   "pygments_lexer": "ipython3",
   "version": "3.8.8"
  }
 },
 "nbformat": 4,
 "nbformat_minor": 5
}
